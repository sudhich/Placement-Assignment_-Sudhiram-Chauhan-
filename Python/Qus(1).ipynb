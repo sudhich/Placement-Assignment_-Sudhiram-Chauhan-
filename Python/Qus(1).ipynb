{
 "cells": [
  {
   "cell_type": "markdown",
   "id": "9d3d4b40",
   "metadata": {},
   "source": [
    "# Python"
   ]
  },
  {
   "cell_type": "markdown",
   "id": "c341bce9",
   "metadata": {},
   "source": [
    "#### Question 1: -\n",
    "Write a program that takes a string as input, and counts the frequency of each word in the string, there might\n",
    "be repeated characters in the string. Your task is to find the highest frequency and returns the length of the\n",
    "highest-frequency word.\n",
    "Note - You have to write at least 2 additional test cases in which your program will run successfully and provide\n",
    "an explanation for the same.\n",
    "Example input - string = “write write write all the number from from from 1 to 100”\n",
    "Example output - 5\n",
    "Explanation - From the given string we can note that the most frequent words are “write” and “from” and\n",
    "the maximum value of both the values is “write” and its corresponding length is 5"
   ]
  },
  {
   "cell_type": "markdown",
   "id": "7bbfff60",
   "metadata": {},
   "source": [
    "### Ans-"
   ]
  },
  {
   "cell_type": "code",
   "execution_count": 1,
   "id": "16cc1e6a",
   "metadata": {},
   "outputs": [
    {
     "name": "stdout",
     "output_type": "stream",
     "text": [
      "5\n",
      "3\n",
      "6\n"
     ]
    }
   ],
   "source": [
    "def find_highest_frequency_word_length(string):\n",
    "    # Split the string into words\n",
    "    words = string.split()\n",
    "\n",
    "    # Count the frequency of each word\n",
    "    word_frequency = {}\n",
    "    for word in words:\n",
    "        word_frequency[word] = word_frequency.get(word, 0) + 1\n",
    "\n",
    "    # Find the highest frequency\n",
    "    max_frequency = max(word_frequency.values())\n",
    "\n",
    "    # Find the length of the highest-frequency word\n",
    "    highest_frequency_word_length = max(len(word) for word, freq in word_frequency.items() if freq == max_frequency)\n",
    "\n",
    "    return highest_frequency_word_length\n",
    "\n",
    "\n",
    "# Test case 1\n",
    "string1 = \"write write write all the number from from from 1 to 100\"\n",
    "print(find_highest_frequency_word_length(string1))  # Output: 5\n",
    "\n",
    "# Test case 2\n",
    "string2 = \"the quick brown fox jumps over the lazy dog\"\n",
    "print(find_highest_frequency_word_length(string2))  # Output: 3\n",
    "\n",
    "# Test case 3\n",
    "string3 = \"apple apple orange banana banana banana\"\n",
    "print(find_highest_frequency_word_length(string3))  # Output: 6\n"
   ]
  }
 ],
 "metadata": {
  "kernelspec": {
   "display_name": "Python 3 (ipykernel)",
   "language": "python",
   "name": "python3"
  },
  "language_info": {
   "codemirror_mode": {
    "name": "ipython",
    "version": 3
   },
   "file_extension": ".py",
   "mimetype": "text/x-python",
   "name": "python",
   "nbconvert_exporter": "python",
   "pygments_lexer": "ipython3",
   "version": "3.9.13"
  }
 },
 "nbformat": 4,
 "nbformat_minor": 5
}
