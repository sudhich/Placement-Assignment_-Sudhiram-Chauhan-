{
 "cells": [
  {
   "cell_type": "markdown",
   "id": "44bd03e0",
   "metadata": {},
   "source": [
    "## Ans(10):"
   ]
  },
  {
   "cell_type": "code",
   "execution_count": null,
   "id": "2eeddc21",
   "metadata": {},
   "outputs": [
    {
     "name": "stdout",
     "output_type": "stream",
     "text": [
      "showing info https://raw.githubusercontent.com/nltk/nltk_data/gh-pages/index.xml\n",
      "showing info https://raw.githubusercontent.com/nltk/nltk_data/gh-pages/index.xml\n"
     ]
    }
   ],
   "source": [
    "import nltk\n",
    "from nltk.tokenize import word_tokenize\n",
    "from nltk.tag import pos_tag\n",
    "nltk.download()\n",
    "def count_pos_tags(text):\n",
    "    # Tokenize the text into words\n",
    "    words = word_tokenize(text)\n",
    "\n",
    "    # Perform Part-of-Speech (POS) tagging\n",
    "    tagged_words = pos_tag(words)\n",
    "\n",
    "    # Initialize counts for each POS category\n",
    "    noun_count = 0\n",
    "    verb_count = 0\n",
    "    pronoun_count = 0\n",
    "    adjective_count = 0\n",
    "\n",
    "    # Iterate over the tagged words and count the POS categories\n",
    "    for word, tag in tagged_words:\n",
    "        if tag.startswith('N'):  # Noun\n",
    "            noun_count += 1\n",
    "        elif tag.startswith('V'):  # Verb\n",
    "            verb_count += 1\n",
    "        elif tag.startswith('PRP'):  # Pronoun\n",
    "            pronoun_count += 1\n",
    "        elif tag.startswith('JJ'):  # Adjective\n",
    "            adjective_count += 1\n",
    "\n",
    "    # Create a dictionary with the POS counts\n",
    "    pos_counts = {\n",
    "        'nouns': noun_count,\n",
    "        'verbs': verb_count,\n",
    "        'pronouns': pronoun_count,\n",
    "        'adjectives': adjective_count\n",
    "    }\n",
    "\n",
    "    return pos_counts\n",
    "\n",
    "# Test with a sample phrase\n",
    "phrase = \"The quick brown fox jumps over the lazy dog.\"\n",
    "pos_counts = count_pos_tags(phrase)\n",
    "print(pos_counts)\n",
    "\n",
    "# Additional Test Case 1\n",
    "paragraph = \"John loves to eat pizza. He often orders it with extra cheese and mushrooms.\"\n",
    "pos_counts_additional_1 = count_pos_tags(paragraph)\n",
    "print(pos_counts_additional_1)\n",
    "\n",
    "# Additional Test Case 2\n",
    "text = \"The sun shines brightly on a clear blue sky. Birds chirp happily in the trees.\"\n",
    "pos_counts_additional_2 = count_pos_tags(text)\n",
    "print(pos_counts_additional_2)\n"
   ]
  },
  {
   "cell_type": "code",
   "execution_count": null,
   "id": "4d2c9d36",
   "metadata": {},
   "outputs": [],
   "source": []
  }
 ],
 "metadata": {
  "kernelspec": {
   "display_name": "Python 3 (ipykernel)",
   "language": "python",
   "name": "python3"
  },
  "language_info": {
   "codemirror_mode": {
    "name": "ipython",
    "version": 3
   },
   "file_extension": ".py",
   "mimetype": "text/x-python",
   "name": "python",
   "nbconvert_exporter": "python",
   "pygments_lexer": "ipython3",
   "version": "3.9.13"
  }
 },
 "nbformat": 4,
 "nbformat_minor": 5
}
