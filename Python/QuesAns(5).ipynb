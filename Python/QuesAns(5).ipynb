{
 "cells": [
  {
   "cell_type": "markdown",
   "id": "55a9e268",
   "metadata": {},
   "source": [
    "## Ans(5):"
   ]
  },
  {
   "cell_type": "code",
   "execution_count": 6,
   "id": "4c732b01",
   "metadata": {},
   "outputs": [
    {
     "name": "stdout",
     "output_type": "stream",
     "text": [
      "id: 869671\n",
      "url: https://www.tvmaze.com/episodes/869671/westworld-1x01-the-original\n",
      "name: The Original\n",
      "season: 1\n",
      "number: 1\n",
      "type: regular\n",
      "airdate: 2016-10-02\n",
      "airtime: 09:00 PM\n",
      "runtime: 68.0\n",
      "rating: 8.0\n",
      "summary: A woman named Dolores is a free spirit in the Old West... and unaware that she's actually an android, programmed to entertain rich guests seeking to act out their fantasies in an idealized vision of the 1880s. However, the people in charge soon realize that their androids are acting in ways that they didn't anticipate.\n",
      "medium_image: https://static.tvmaze.com/uploads/images/medium_landscape/78/195475.jpg\n",
      "original_image: https://static.tvmaze.com/uploads/images/original_untouched/78/195475.jpg\n"
     ]
    }
   ],
   "source": [
    "import requests\n",
    "import json\n",
    "import datetime\n",
    "\n",
    "\n",
    "def download_data(url):\n",
    "    response = requests.get(url)\n",
    "    data = response.json()\n",
    "    #print(data)\n",
    "    #print(\"Data Downloaded Successfully\")\n",
    "    return data\n",
    "\n",
    "\n",
    "def extract_data(data):\n",
    "    episode_data = {}\n",
    "\n",
    "    # Extracting the desired attributes from the data\n",
    "    episode_data['id'] = data['id']\n",
    "    episode_data['url'] = data['url']\n",
    "    episode_data['name'] = data['name']\n",
    "    episode_data['season'] = data['season']\n",
    "    episode_data['number'] = data['number']\n",
    "    episode_data['type'] = data['type']\n",
    "    episode_data['airdate'] = datetime.datetime.strptime(data['airdate'], \"%Y-%m-%d\").date()\n",
    "    episode_data['airtime'] = datetime.datetime.strptime(data['airtime'], \"%H:%M\").strftime(\"%I:%M %p\")\n",
    "    episode_data['runtime'] = float(data['runtime'])\n",
    "    episode_data['rating'] = float(data['rating']['average'])\n",
    "    episode_data['summary'] = data['summary'].replace(\"<p>\", \"\").replace(\"</p>\", \"\")\n",
    "    episode_data['medium_image'] = data['image']['medium']\n",
    "    episode_data['original_image'] = data['image']['original']\n",
    "    #print(episode_data)\n",
    "    return episode_data\n",
    "\n",
    "\n",
    "if __name__ == '__main__':\n",
    "    url = 'http://api.tvmaze.com/singlesearch/shows?q=westworld&embed=episodes'\n",
    "\n",
    "    # Downloading the data\n",
    "    episode_data = download_data(url)\n",
    "\n",
    "    # Extracting the desired data\n",
    "    extracted_data = extract_data(episode_data['_embedded']['episodes'][0])\n",
    "\n",
    "    # Printing the extracted data\n",
    "    for attribute, value in extracted_data.items():\n",
    "        print(f\"{attribute}: {value}\")\n"
   ]
  },
  {
   "cell_type": "code",
   "execution_count": null,
   "id": "f6517a8c",
   "metadata": {},
   "outputs": [],
   "source": []
  }
 ],
 "metadata": {
  "kernelspec": {
   "display_name": "Python 3 (ipykernel)",
   "language": "python",
   "name": "python3"
  },
  "language_info": {
   "codemirror_mode": {
    "name": "ipython",
    "version": 3
   },
   "file_extension": ".py",
   "mimetype": "text/x-python",
   "name": "python",
   "nbconvert_exporter": "python",
   "pygments_lexer": "ipython3",
   "version": "3.9.13"
  }
 },
 "nbformat": 4,
 "nbformat_minor": 5
}
