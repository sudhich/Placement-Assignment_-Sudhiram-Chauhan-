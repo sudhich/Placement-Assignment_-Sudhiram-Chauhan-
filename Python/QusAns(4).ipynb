{
 "cells": [
  {
   "cell_type": "markdown",
   "id": "ab07db07",
   "metadata": {},
   "source": [
    "## Ans(4):"
   ]
  },
  {
   "cell_type": "code",
   "execution_count": 3,
   "id": "8f7aa59c",
   "metadata": {},
   "outputs": [
    {
     "name": "stdout",
     "output_type": "stream",
     "text": [
      "Data Downloaded Successfully\n",
      "Data converted successfully into DataFrame\n",
      "Data exported Successfully into CSV format\n"
     ]
    }
   ],
   "source": [
    "import requests\n",
    "import json\n",
    "import pandas as pd\n",
    "\n",
    "\n",
    "def download_data(url):\n",
    "    response = requests.get(url)\n",
    "    data = response.json()\n",
    "    print(\"Data Downloaded Successfully\")\n",
    "    return data\n",
    "\n",
    "\n",
    "def convert_to_dataframe(data):\n",
    "    # Extracting the relevant attributes from the data\n",
    "    attributes = ['name', 'id', 'nametype', 'recclass', 'mass', 'fall',\n",
    "                  'year', 'reclat', 'reclong', 'geolocation']\n",
    "\n",
    "    # Creating a dictionary to store the extracted attributes\n",
    "    meteorite_data = {attr: [] for attr in attributes}\n",
    "    #print(meteorite_data)\n",
    "    # Parsing the data and populating the dictionary\n",
    "    for entry in data:\n",
    "        for attr in attributes:\n",
    "            value = entry.get(attr, None)\n",
    "            meteorite_data[attr].append(value)\n",
    "    #print(meteorite_data)\n",
    "    # Converting the dictionary to a Pandas DataFrame\n",
    "    df = pd.DataFrame(meteorite_data)\n",
    "    #print(df.head(4))\n",
    "    print(\"Data converted successfully into DataFrame\")\n",
    "    return df\n",
    "\n",
    "\n",
    "def export_to_csv(dataframe, filename):\n",
    "    # Saving the DataFrame to a CSV file\n",
    "    dataframe.to_csv(filename, index=False)\n",
    "    print(\"Data exported Successfully into CSV format\")\n",
    "\n",
    "\n",
    "if __name__ == '__main__':\n",
    "    url = 'https://data.nasa.gov/resource/y77d-th95.json'\n",
    "    filename = 'meteorite_data.csv'\n",
    "\n",
    "    # Downloading the data\n",
    "    meteorite_data = download_data(url)\n",
    "\n",
    "    # Converting the data to a DataFrame\n",
    "    df = convert_to_dataframe(meteorite_data)\n",
    "\n",
    "    # Exporting the DataFrame to a CSV file\n",
    "    export_to_csv(df, filename)\n"
   ]
  },
  {
   "cell_type": "code",
   "execution_count": null,
   "id": "7208f6ac",
   "metadata": {},
   "outputs": [],
   "source": []
  }
 ],
 "metadata": {
  "kernelspec": {
   "display_name": "Python 3 (ipykernel)",
   "language": "python",
   "name": "python3"
  },
  "language_info": {
   "codemirror_mode": {
    "name": "ipython",
    "version": 3
   },
   "file_extension": ".py",
   "mimetype": "text/x-python",
   "name": "python",
   "nbconvert_exporter": "python",
   "pygments_lexer": "ipython3",
   "version": "3.9.13"
  }
 },
 "nbformat": 4,
 "nbformat_minor": 5
}
