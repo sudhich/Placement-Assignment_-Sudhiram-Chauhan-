{
 "cells": [
  {
   "cell_type": "markdown",
   "id": "c3312905",
   "metadata": {},
   "source": [
    "# Python"
   ]
  },
  {
   "cell_type": "markdown",
   "id": "d3fd026e",
   "metadata": {},
   "source": [
    "### Question 2: -\n",
    "Consider a string to be valid if all characters of the string appear the same number of times. It is also valid if\n",
    "he can remove just one character at the index in the string, and the remaining characters will occur the same\n",
    "number of times. Given a string, determine if it is valid. If so, return YES , otherwise return NO .\n",
    "Note - You have to write at least 2 additional test cases in which your program will run successfully and provide\n",
    "an explanation for the same.\n",
    "Example input 1 - s = “abc”. This is a valid string because frequencies are { “a”: 1, “b”: 1, “c”: 1 }\n",
    "Example output 1- YES\n",
    "Example input 2 - s “abcc”. This string is not valid as we can remove only 1 occurrence of “c”. That leaves\n",
    "character frequencies of { “a”: 1, “b”: 1 , “c”: 2 }\n",
    "Example output 2 - NO"
   ]
  },
  {
   "cell_type": "markdown",
   "id": "86b09e6b",
   "metadata": {},
   "source": [
    "### Ans-"
   ]
  },
  {
   "cell_type": "code",
   "execution_count": 17,
   "id": "6bdd9811",
   "metadata": {},
   "outputs": [
    {
     "name": "stdout",
     "output_type": "stream",
     "text": [
      "YES\n",
      "NO\n",
      "YES\n",
      "YES\n"
     ]
    }
   ],
   "source": [
    "def is_valid_string(s):\n",
    "    # Count the frequency of each character\n",
    "    char_frequency = {}\n",
    "    for char in s:\n",
    "        char_frequency[char] = char_frequency.get(char, 0) + 1\n",
    "\n",
    "    # Count the frequency of frequencies\n",
    "    freq_frequency = {}\n",
    "    for freq in char_frequency.values():\n",
    "        freq_frequency[freq] = freq_frequency.get(freq, 0) + 1\n",
    "\n",
    "    # Check if the string is valid\n",
    "    if len(freq_frequency) == 1:\n",
    "        return \"YES\"\n",
    "    elif len(freq_frequency) == 2 and 1 in freq_frequency.values() and freq_frequency[min(freq_frequency)] == 1:\n",
    "        return \"YES\"\n",
    "    else:\n",
    "        return \"NO\"\n",
    "\n",
    "\n",
    "# Test case 1\n",
    "s1 = \"abc\"\n",
    "print(is_valid_string(s1))  # Output: YES\n",
    "\n",
    "# Test case 2\n",
    "s2 = \"abcc\"\n",
    "print(is_valid_string(s2))  # Output: NO\n",
    "\n",
    "# Test case 3\n",
    "s3 = \"aabbcc\"\n",
    "print(is_valid_string(s3))  # Output: YES\n",
    "\n",
    "# Test case 4\n",
    "s4 = \"aabbc\"\n",
    "print(is_valid_string(s4))  # Output: YES\n"
   ]
  },
  {
   "cell_type": "code",
   "execution_count": null,
   "id": "b34c0c0a",
   "metadata": {},
   "outputs": [],
   "source": []
  }
 ],
 "metadata": {
  "kernelspec": {
   "display_name": "Python 3 (ipykernel)",
   "language": "python",
   "name": "python3"
  },
  "language_info": {
   "codemirror_mode": {
    "name": "ipython",
    "version": 3
   },
   "file_extension": ".py",
   "mimetype": "text/x-python",
   "name": "python",
   "nbconvert_exporter": "python",
   "pygments_lexer": "ipython3",
   "version": "3.9.13"
  }
 },
 "nbformat": 4,
 "nbformat_minor": 5
}
