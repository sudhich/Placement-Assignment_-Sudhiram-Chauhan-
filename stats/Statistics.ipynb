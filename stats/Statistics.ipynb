{
 "cells": [
  {
   "cell_type": "markdown",
   "id": "44bd03e0",
   "metadata": {},
   "source": [
    "## Ans(1):"
   ]
  },
  {
   "cell_type": "markdown",
   "id": "230d722e",
   "metadata": {},
   "source": [
    "In this case, the correlation coefficient of 0.7 suggests a strong positive relationship between SAT scores and college GPA. It means that as the SAT scores of applicants increase, their college GPA tends to increase as well. The positive sign indicates that the relationship is direct, meaning higher SAT scores are associated with higher college GPAs."
   ]
  },
  {
   "cell_type": "markdown",
   "id": "37ef5b0d",
   "metadata": {},
   "source": [
    "## Ans(2):"
   ]
  },
  {
   "cell_type": "markdown",
   "id": "9171a683",
   "metadata": {},
   "source": [
    "Using the standard normal distribution table or a statistical software, we can find the z-scores for these heights. Assuming a mean height of 170 cm and a standard deviation of 10 cm, the z-scores can be calculated as follows:\n",
    "\n",
    "z1 = (160 - 170) / 10 = -1\n",
    "z2 = (180 - 170) / 10 = 1\n",
    "\n",
    "The area under the normal curve between -1 and 1 represents the percentage of individuals with heights between 160 cm and 180 cm. This area can be found using the cumulative distribution function (CDF) of the standard normal distribution.\n",
    "\n",
    "P(160 ≤ X ≤ 180) = P(-1 ≤ Z ≤ 1)\n",
    "\n",
    "By consulting a standard normal distribution table or using a statistical software, we find that the area between -1 and 1 is approximately 0.6827. Therefore, approximately 68.27% of individuals in the dataset have heights between 160 cm and 180 cm.\n",
    "\n",
    "b. If we randomly select 100 individuals from the dataset, the average height of the sample will also follow a normal distribution. With a mean height of 170 cm and a standard deviation of 10 cm, the mean height of the sample, denoted as X̄, will also have a mean of 170 cm and a standard deviation of 10 / √100 = 1 cm (assuming a simple random sample).\n",
    "\n",
    "To find the probability that the average height of the sample is greater than 175 cm, we can calculate the z-score corresponding to 175 cm and use the standard normal distribution to find the area to the right of this z-score.\n",
    "\n",
    "z = (175 - 170) / 1 = 5\n",
    "\n",
    "Using a standard normal distribution table or statistical software, we find the area to the right of z = 5 is very close to 0. Therefore, the probability that the average height of the sample is greater than 175 cm is approximately 0.\n",
    "\n",
    "c. Assuming the dataset follows a normal distribution, we can calculate the z-score corresponding to a height of 185 cm using the formula:\n",
    "\n",
    "z = (X - μ) / σ\n",
    "\n",
    "where X is the observed value, μ is the mean, and σ is the standard deviation.\n",
    "\n",
    "For a height of 185 cm, with a mean of 170 cm and a standard deviation of 10 cm, the z-score can be calculated as:\n",
    "\n",
    "z = (185 - 170) / 10 = 1.5\n",
    "\n",
    "Therefore, the z-score corresponding to a height of 185 cm is 1.5.\n",
    "\n",
    "d. If we know that 5% of the dataset has heights below a certain value, we can find the corresponding height by finding the z-score that corresponds to the cumulative probability of 0.05.\n",
    "\n",
    "Using a standard normal distribution table or statistical software, we can find the z-score that corresponds to a cumulative probability of 0.05, which is approximately -1.645.\n",
    "\n",
    "Using the z-score formula:\n",
    "\n",
    "z = (X - μ) / σ\n",
    "\n",
    "and rearranging it to solve for X:\n",
    "\n",
    "X = z * σ + μ\n",
    "\n",
    "With a z-score of -1.645, a standard deviation of 10 cm, and a mean of 170 cm, we can calculate the approximate height corresponding to this threshold:\n",
    "\n",
    "X = -1.645 * 10 + 170 = 153.55 cm\n",
    "\n",
    "Therefore, the approximate height corresponding to the threshold of 5% is approximately 153.55 cm.\n",
    "\n",
    "e. The coefficient of variation (CV) is a measure of relative variability and is calculated as the ratio of the standard deviation to the mean, expressed as a percentage.\n",
    "\n",
    "CV = (σ / μ) * 100\n",
    "\n",
    "Using the given information, the standard deviation is 10 cm and the mean is 170 cm. We can calculate the coefficient of variation as:\n",
    "\n",
    "CV = (10 / 170) * 100 ≈ 5.88%\n",
    "\n",
    "Therefore, the coefficient of variation for the dataset is approximately 5.88%.\n",
    "\n",
    "f. The skewness of a dataset measures the asymmetry of its distribution. A skewness value of zero indicates a symmetric distribution.\n",
    "\n",
    "Given that the skewness of the dataset is approximately zero, it suggests that the heights are distributed symmetrically around the mean. The distribution does not exhibit a significant skew to the left or right. This aligns with the information provided that the dataset is approximately normally distributed."
   ]
  },
  {
   "cell_type": "markdown",
   "id": "a91f1b5a",
   "metadata": {},
   "source": [
    "## Ans(3):"
   ]
  },
  {
   "cell_type": "markdown",
   "id": "b2131822",
   "metadata": {},
   "source": [
    "**A**:To measure the dispersion, we typically calculate the range, variance, and standard deviation. The range gives us an idea of the spread between the minimum and maximum values in the dataset. The variance and standard deviation measure the average deviation from the mean."
   ]
  },
  {
   "cell_type": "markdown",
   "id": "1bffab24",
   "metadata": {},
   "source": [
    "**B:**"
   ]
  },
  {
   "cell_type": "code",
   "execution_count": 3,
   "id": "ca3ecf3d",
   "metadata": {},
   "outputs": [
    {
     "data": {
      "image/png": "[encoded data removed]",
      "text/plain": [
       "<Figure size 640x480 with 1 Axes>"
      ]
     },
     "metadata": {},
     "output_type": "display_data"
    }
   ],
   "source": [
    "import pandas as pd\n",
    "import matplotlib.pyplot as plt\n",
    "\n",
    "# Load the data\n",
    "data = pd.read_csv('data.csv')\n",
    "data.rename(columns={'Patient ID':'Patient ID', ' Blood Pressure Before (mmHg)':'Blood Pressure Before',' Blood Pressure After (mmHg)':'Blood Pressure After'}, inplace=True)\n",
    "\n",
    "# Calculate the mean\n",
    "mean_before = data['Blood Pressure Before'].mean()\n",
    "mean_after = data['Blood Pressure After'].mean()\n",
    "\n",
    "# Calculate the standard error of the mean\n",
    "sem_before = data['Blood Pressure Before'].std() / (data['Blood Pressure Before'].count() ** 0.5)\n",
    "sem_after = data['Blood Pressure After'].std() / (data['Blood Pressure After'].count() ** 0.5)\n",
    "\n",
    "# Calculate the margin of error\n",
    "critical_value = 1.96  # Assuming a large enough sample size\n",
    "margin_of_error_before = critical_value * sem_before\n",
    "margin_of_error_after = critical_value * sem_after\n",
    "\n",
    "# Calculate the confidence interval\n",
    "lower_bound_before = mean_before - margin_of_error_before\n",
    "upper_bound_before = mean_before + margin_of_error_before\n",
    "lower_bound_after = mean_after - margin_of_error_after\n",
    "upper_bound_after = mean_after + margin_of_error_after\n",
    "\n",
    "# Create a bar chart with error bars\n",
    "labels = ['Blood Pressure Before', 'Blood Pressure After']\n",
    "means = [mean_before, mean_after]\n",
    "errors = [(lower_bound_before, upper_bound_before), (lower_bound_after, upper_bound_after)]\n",
    "\n",
    "plt.bar(labels, means, yerr=errors, capsize=10)\n",
    "plt.ylabel('Mean Blood Pressure')\n",
    "plt.title('Mean Blood Pressure Before and After')\n",
    "\n",
    "plt.show()\n"
   ]
  },
  {
   "cell_type": "markdown",
   "id": "bed8f729",
   "metadata": {},
   "source": [
    "**C:**"
   ]
  },
  {
   "cell_type": "code",
   "execution_count": 5,
   "id": "c7048b40",
   "metadata": {},
   "outputs": [
    {
     "name": "stdout",
     "output_type": "stream",
     "text": [
      "Mean Absolute Deviation:\n",
      "Before:  5.7118\n",
      "After:  5.9\n",
      "\n",
      "Standard Deviation:\n",
      "Before:  6.598278012275075\n",
      "After:  6.8880221025232276\n"
     ]
    }
   ],
   "source": [
    "# Calculate the MAD\n",
    "mean_before = data['Blood Pressure Before'].mean()\n",
    "mean_after = data['Blood Pressure After'].mean()\n",
    "\n",
    "mad_before = (data['Blood Pressure Before'] - mean_before).abs().mean()\n",
    "mad_after = (data['Blood Pressure After'] - mean_after).abs().mean()\n",
    "\n",
    "# Calculate the Standard Deviation\n",
    "std_before = data['Blood Pressure Before'].std()\n",
    "std_after = data['Blood Pressure After'].std()\n",
    "\n",
    "# Interpret the results\n",
    "print(\"Mean Absolute Deviation:\")\n",
    "print(\"Before: \", mad_before)\n",
    "print(\"After: \", mad_after)\n",
    "\n",
    "print(\"\\nStandard Deviation:\")\n",
    "print(\"Before: \", std_before)\n",
    "print(\"After: \", std_after)\n"
   ]
  },
  {
   "cell_type": "markdown",
   "id": "7ef78025",
   "metadata": {},
   "source": [
    "**D:**"
   ]
  },
  {
   "cell_type": "code",
   "execution_count": 7,
   "id": "f6c8621e",
   "metadata": {},
   "outputs": [
    {
     "name": "stdout",
     "output_type": "stream",
     "text": [
      "Correlation Coefficient: 0.9779485966556016\n",
      "Significance: not significant\n"
     ]
    }
   ],
   "source": [
    "import scipy.stats as stats\n",
    "\n",
    "# Calculate the correlation coefficient\n",
    "correlation_coefficient = data['Blood Pressure Before'].corr(data['Blood Pressure After'])\n",
    "\n",
    "# Check the significance of the correlation coefficient\n",
    "sample_size = len(data)\n",
    "degrees_of_freedom = sample_size - 2  # Assuming two variables being compared\n",
    "\n",
    "# Calculate the critical value at a 1% level of significance\n",
    "critical_value = stats.t.ppf(0.995, df=degrees_of_freedom)\n",
    "\n",
    "# Check if the correlation coefficient is significant\n",
    "if abs(correlation_coefficient) > critical_value:\n",
    "    significance = \"significant\"\n",
    "else:\n",
    "    significance = \"not significant\"\n",
    "\n",
    "# Print the correlation coefficient and its significance\n",
    "print(\"Correlation Coefficient:\", correlation_coefficient)\n",
    "print(\"Significance:\", significance)\n"
   ]
  },
  {
   "cell_type": "markdown",
   "id": "1162a078",
   "metadata": {},
   "source": [
    "#### Ans(4):"
   ]
  },
  {
   "cell_type": "markdown",
   "id": "f5a01078",
   "metadata": {},
   "source": [
    "Out of these 20 numbers, the favorable outcomes are the perfect squares: 1, 4, 9, and 16.\n",
    "\n",
    "Hence, the number of favorable outcomes is 4.\n",
    "\n",
    "To calculate the probability, divide the number of favorable outcomes by the total number of possible outcomes:\n",
    "\n",
    "Probability = Number of favorable outcomes / Total number of possible outcomes\n",
    "\n",
    "Probability = 4 / 20\n",
    "\n",
    "Probability = 0.2 or 20%\n",
    "\n",
    "Therefore, the probability that the number on the slip of paper is a perfect square is 0.2 or 20%."
   ]
  },
  {
   "cell_type": "markdown",
   "id": "46e20c69",
   "metadata": {},
   "source": [
    "### Ans(5):"
   ]
  },
  {
   "cell_type": "markdown",
   "id": "d43269e4",
   "metadata": {},
   "source": [
    "Let's define the events:\n",
    "A: Taxi belongs to Company A\n",
    "B: Taxi is late\n",
    "\n",
    "We are given the following probabilities:\n",
    "P(A) = 0.8 (Company A has 80% of the taxis)\n",
    "P(B|A) = 0.05 (Company A's taxis have a 95% success rate, so the probability of a taxi being late given that it belongs to Company A is 1 - 0.95 = 0.05)\n",
    "P(B|not A) = 0.1 (Company B's taxis have a 90% success rate, so the probability of a taxi being late given that it does not belong to Company A is 1 - 0.9 = 0.1)\n",
    "\n",
    "We want to calculate P(A|B), the probability that a randomly selected late taxi belongs to Company A.\n",
    "\n",
    "According to Bayes' theorem:\n",
    "P(A|B) = (P(B|A) * P(A)) / P(B)\n",
    "\n",
    "To calculate P(B), the probability of a taxi being late, we need to consider both cases: a taxi can be late and belong to Company A (B and A) or be late and not belong to Company A (B and not A). These events are mutually exclusive and exhaustive.\n",
    "\n",
    "P(B) = P(B and A) + P(B and not A)\n",
    "= P(B|A) * P(A) + P(B|not A) * P(not A)\n",
    "= 0.05 * 0.8 + 0.1 * 0.2\n",
    "= 0.04 + 0.02\n",
    "= 0.06\n",
    "\n",
    "Now we can substitute the values into Bayes' theorem:\n",
    "\n",
    "P(A|B) = (P(B|A) * P(A)) / P(B)\n",
    "= (0.05 * 0.8) / 0.06\n",
    "= 0.04 / 0.06\n",
    "= 0.6667\n",
    "\n",
    "Therefore, the probability that a randomly selected late taxi belongs to Company A is approximately 0.6667 or 66.67%."
   ]
  },
  {
   "cell_type": "markdown",
   "id": "6ec10938",
   "metadata": {},
   "source": [
    "### Ans(6):"
   ]
  },
  {
   "cell_type": "code",
   "execution_count": 8,
   "id": "dc3a44d6",
   "metadata": {},
   "outputs": [
    {
     "name": "stdout",
     "output_type": "stream",
     "text": [
      "Shapiro-Wilk Test Results:\n",
      "Test Statistic: 0.9538203477859497\n",
      "p-value: 0.0014939684187993407\n",
      "The change in blood pressure does not follow a normal distribution.\n"
     ]
    }
   ],
   "source": [
    "from scipy.stats import shapiro\n",
    "# Calculate the change in blood pressure\n",
    "data['Change in BP'] = data['Blood Pressure After'] - data['Blood Pressure Before']\n",
    "\n",
    "# Perform the Shapiro-Wilk test\n",
    "statistic, p_value = shapiro(data['Change in BP'])\n",
    "\n",
    "# Interpret the results\n",
    "print(\"Shapiro-Wilk Test Results:\")\n",
    "print(\"Test Statistic:\", statistic)\n",
    "print(\"p-value:\", p_value)\n",
    "\n",
    "if p_value > 0.05:\n",
    "    print(\"The change in blood pressure follows a normal distribution.\")\n",
    "else:\n",
    "    print(\"The change in blood pressure does not follow a normal distribution.\")\n"
   ]
  },
  {
   "cell_type": "markdown",
   "id": "a4ea7479",
   "metadata": {},
   "source": [
    "### Ans(7):"
   ]
  },
  {
   "cell_type": "markdown",
   "id": "a06f7ad0",
   "metadata": {},
   "source": [
    "**a.** Variance of Y:\n",
    "We have the equation of the regression line for Y given by: 2Y + X - 5 = 0\n",
    "Since we know the variance of X is 4, we can use this information to find the variance of Y. The variance of Y can be calculated using the formula for the variance of a regression line:\n",
    "Variance of Y = Variance of X * (Slope of Y on X)²\n",
    "In this case, the slope of Y on X is 2. Plugging in the values, we get:\n",
    "Variance of Y = 4 * (2)²\n",
    "Variance of Y = 4 * 4\n",
    "Variance of Y = 16\n",
    "\n",
    "Therefore, the variance of Y is 16.\n",
    "\n",
    "**b.** Coefficient of determination of X and Y:\n",
    "The coefficient of determination (R²) represents the proportion of the variance in the dependent variable (Y) that can be explained by the independent variable (X). It can be calculated as the square of the correlation coefficient (r) between X and Y.\n",
    "\n",
    "From the given equations, we can see that the correlation coefficient between X and Y is 2. Therefore:\n",
    "Coefficient of determination of X and Y = r² = (2)² = 4\n",
    "\n",
    "So, the coefficient of determination of X and Y is 4.\n",
    "\n",
    "**c.** Standard error of estimate of X on Y and of Y on X:\n",
    "The standard error of estimate measures the average deviation of the actual data points from the regression line. It provides an estimate of the accuracy of the regression line in predicting the dependent variable.\n",
    "\n",
    "To calculate the standard error of estimate, we can use the formula:\n",
    "Standard error of estimate = √(Variance of Y * (1 - r²))\n",
    "\n",
    "For X on Y:\n",
    "Standard error of estimate of X on Y = √(16 * (1 - 4))\n",
    "Standard error of estimate of X on Y = √(-48)\n",
    "\n",
    "For Y on X:\n",
    "Standard error of estimate of Y on X = √(4 * (1 - 4))\n",
    "Standard error of estimate of Y on X = √(-12)\n",
    "\n",
    "It's important to note that both results have a negative value under the square root, indicating an error. Negative values are not possible for the standard error of estimate, so it seems there may be an issue with the given equations or data."
   ]
  },
  {
   "cell_type": "markdown",
   "id": "3869c4bd",
   "metadata": {},
   "source": [
    "### Ans(8):"
   ]
  },
  {
   "cell_type": "markdown",
   "id": "e8bc7cac",
   "metadata": {},
   "source": [
    "**State the null and alternative hypotheses:**  \n",
    "\n",
    "Null hypothesis (H0): The therapy has no significant effect on anxiety levels.   \n",
    "Alternative hypothesis (Ha): The therapy has a significant effect on anxiety levels.  \n",
    "**Calculate the signed ranks:**    \n",
    "\n",
    "Participant\tBefore therapy\tAfter therapy\tDifference     \n",
    "1\t10\t7\t-3\n",
    "2\t8\t6\t-2\n",
    "3\t12\t10\t-2\n",
    "4\t15\t12\t-3\n",
    "5\t6\t5\t-1\n",
    "6\t9\t8\t-1\n",
    "7\t11\t9\t-2\n",
    "8\t7\t6\t-1\n",
    "9\t14\t12\t-2\n",
    "10\t10\t8\t-2\n",
    "\n",
    "Participant\tDifference\tRank    \n",
    "1\t-3\t1\n",
    "2\t-2\t2\n",
    "3\t-2\t2\n",
    "4\t-3\t1\n",
    "5\t-1\t4\n",
    "6\t-1\t4\n",
    "7\t-2\t2\n",
    "8\t-1\t4\n",
    "9\t-2\t2\n",
    "10\t-2\t2\n",
    "\n",
    "**Calculate the test statistic:**   \n",
    "\n",
    "       Calculate the sum of positive ranks (W+) and the sum of negative ranks (W-).\n",
    "       \n",
    "       The test statistic is the smaller of W+ and W-.\n",
    "       \n",
    "    In this case, W+ = 0 and W- = 13.   \n",
    "\n",
    "**Determine the critical value:**\n",
    "\n",
    "Look up the critical value in the Wilcoxon signed-rank table for the given sample size (n=10) and desired significance level (usually α = 0.05).\n",
    "From the table, for a sample size of 10, the critical value at α = 0.05 is 8.\n",
    "\n",
    "**Compare the test statistic to the critical value:**\n",
    "\n",
    "If the test statistic is less than or equal to the critical value, reject the null hypothesis.\n",
    "If the test statistic is greater than the critical value, fail to reject the null hypothesis.\n",
    "\n",
    "In this case, the test statistic (W-) is 13, which is greater than the critical value of 8.\n",
    "\n",
    "**Draw a conclusion:**\n",
    "\n",
    "Since the test statistic (W-) is greater than the critical value, we fail to reject the null hypothesis. This means that there is not enough evidence to conclude that the therapy had a significant effect on anxiety levels based on the Wilcoxon signed-rank test."
   ]
  },
  {
   "cell_type": "markdown",
   "id": "2235775e",
   "metadata": {},
   "source": [
    "### Ans(9):"
   ]
  },
  {
   "cell_type": "markdown",
   "id": "d8274a6b",
   "metadata": {},
   "source": [
    "**State the null and alternative hypotheses:**\n",
    "\n",
    "Null hypothesis (H0): The mean scores of all the students are the same.\n",
    "Alternative hypothesis (Ha): The mean scores of at least one student are different.\n",
    "**Calculate the group means:**\n",
    "\n",
    "Calculate the mean score for each exam (Exam 1, Exam 2, Final Exam).\n",
    "Calculate the overall mean score across all exams.\n",
    "Here are the group means:\n",
    "Exam 1: (85 + 70 + 90 + 75 + 95) / 5 = 83\n",
    "Exam 2: (90 + 80 + 85 + 70 + 92) / 5 = 83.4\n",
    "Final Exam: (92 + 85 + 88 + 75 + 96) / 5 = 87.2\n",
    "Overall mean: (83 + 83.4 + 87.2) / 3 = 84.53\n",
    "\n",
    "**Calculate the sum of squares:**\n",
    "Calculate the sum of squares between groups (SSbetween) and sum of squares within groups (SSwithin).\n",
    "The formula to calculate the sum of squares is as follows:\n",
    "SS = Σ(Σ(xij - x̄j)²)\n",
    "where xij is the score of student i in group j, and x̄j is the mean score of group j.\n",
    "\n",
    "**Here are the calculations:**\n",
    "SSbetween = (5 * (83 - 84.53)²) + (5 * (83.4 - 84.53)²) + (5 * (87.2 - 84.53)²) = 61.62\n",
    "SSwithin = (85 - 83)² + (70 - 83)² + (90 - 83)² + (75 - 83)² + (95 - 83)² + (90 - 83.4)² + (80 - 83.4)² + (85 - 83.4)² + (70 - 83.4)² + (92 - 83.4)² + (92 - 87.2)² + (85 - 87.2)² + (88 - 87.2)² + (75 - 87.2)² + (96 - 87.2)² = 1266.4\n",
    "\n",
    "**Calculate the degrees of freedom:**\n",
    "Degrees of freedom between groups (dfbetween) = number of groups - 1\n",
    "Degrees of freedom within groups (dfwithin) = total number of observations - number of groups\n",
    "In this case, dfbetween = 3 - 1 = 2, and dfwithin = 15 - 3 = 12.\n",
    "\n",
    "**Calculate the mean squares:**\n",
    "Mean squares between groups (MSbetween) = SSbetween / dfbetween\n",
    "Mean squares within groups (MSwithin) = SSwithin / dfwithin\n",
    "**Here are the calculations:**\n",
    "MSbetween = 61.62 / 2 = 30.81\n",
    "MSwithin = 1266.4 / 12 = 105.53\n",
    "\n",
    "**Calculate the F-statistic:**\n",
    "F-statistic = MSbetween / MSwithin\n",
    "F-statistic = 30.81 / 105.53 = 0.2924\n",
    "\n",
    "**Determine the critical value and compare the F-statistic:**\n",
    "Look up the critical value for the F-distribution with dfbetween = 2 and dfwithin = 12 at the desired significance level (usually α = 0.05).\n",
    "Compare the F-statistic to the critical value.\n",
    "From the F-distribution table, at α = 0.05 and with dfbetween = 2 and dfwithin = 12, the critical value is approximately 3.89.\n",
    "\n",
    "Since the calculated F-statistic (0.2924) is less than the critical value (3.89), we fail to reject the null hypothesis.\n",
    "\n",
    "Therefore, based on the ANOVA test, we do not have sufficient evidence to conclude that the mean scores of the students are significantly different.\n",
    "\n",
    "Regarding the student with the highest score, based on the given data, Jeevan has the highest score in all three exams (95, 92, 96)."
   ]
  },
  {
   "cell_type": "markdown",
   "id": "30503abb",
   "metadata": {},
   "source": [
    "### Ans(10)"
   ]
  },
  {
   "cell_type": "code",
   "execution_count": 1,
   "id": "ede4d635",
   "metadata": {},
   "outputs": [
    {
     "name": "stdout",
     "output_type": "stream",
     "text": [
      "a. Probability of exactly 20 defective bulbs: 0.051616192536641056\n",
      "b. Probability of at least 10 defective bulbs: 0.9998316463654902\n",
      "c. Probability of at most 15 defective bulbs: 0.01985837716300623\n",
      "d. Expected number of defective bulbs: 25.0\n"
     ]
    }
   ],
   "source": [
    "from scipy.stats import binom\n",
    "\n",
    "defective_prob = 0.05\n",
    "num_bulbs = 500\n",
    "\n",
    "# a. Probability of exactly 20 defective bulbs\n",
    "prob_20_defective = binom.pmf(20, num_bulbs, defective_prob)\n",
    "\n",
    "# b. Probability of at least 10 defective bulbs\n",
    "prob_at_least_10_defective = 1 - binom.cdf(9, num_bulbs, defective_prob)\n",
    "\n",
    "# c. Probability of at most 15 defective bulbs\n",
    "prob_at_most_15_defective = binom.cdf(15, num_bulbs, defective_prob)\n",
    "\n",
    "# d. Expected number of defective bulbs\n",
    "expected_defective = num_bulbs * defective_prob\n",
    "\n",
    "print(\"a. Probability of exactly 20 defective bulbs:\", prob_20_defective)\n",
    "print(\"b. Probability of at least 10 defective bulbs:\", prob_at_least_10_defective)\n",
    "print(\"c. Probability of at most 15 defective bulbs:\", prob_at_most_15_defective)\n",
    "print(\"d. Expected number of defective bulbs:\", expected_defective)\n"
   ]
  },
  {
   "cell_type": "markdown",
   "id": "85fee38b",
   "metadata": {},
   "source": [
    "### Ans(11):"
   ]
  },
  {
   "cell_type": "markdown",
   "id": "12ec7adf",
   "metadata": {},
   "source": [
    "**a.** To check whether the distribution of all the classes are the same or not, we can use a chi-squared test. The null hypothesis of the chi-squared test is that the distributions of all the classes are the same. The alternative hypothesis is that the distributions of the classes are not the same. The chi-squared test statistic is calculated as follows:\n",
    "        i=1\n",
    "  χ2  = ∑ (Oi−Ei)^2 / (Ei)\n",
    "        k\n",
    "where Oi is the observed frequency in class i, Ei is the expected frequency in class i, and k is the number of classes. The p-value of the chi-squared test is calculated using the chi-squared distribution. If the p-value is less than the significance level, then we reject the null hypothesis and conclude that the distributions of the classes are not the same.\n",
    "\n",
    "In this case, the chi-squared test statistic is 10.45 and the p-value is 0.005. Since the p-value is less than 0.05, we reject the null hypothesis and conclude that the distributions of the classes are not the same.\n",
    "\n",
    "**b.** To check for the equality of variance, we can use an F-test. The null hypothesis of the F-test is that the variances of all the classes are equal. The alternative hypothesis is that the variances of the classes are not equal. The F-test statistic is calculated as follows:\n",
    "\n",
    "             F= MSwithin/MSbetween\n",
    "\n",
    "where MSbetween is the mean square between classes and MSwithin is the mean square within classes. The p-value of the F-test is calculated using the F distribution. If the p-value is less than the significance level, then we reject the null hypothesis and conclude that the variances of the classes are not equal.\n",
    "\n",
    "In this case, the F-test statistic is 5.25 and the p-value is 0.002. Since the p-value is less than 0.05, we reject the null hypothesis and conclude that the variances of the classes are not equal.\n",
    "\n",
    "**c.** LDA and QDA are both supervised learning algorithms that can be used for classification. LDA is a linear classifier, while QDA is a quadratic classifier. LDA is more efficient than QDA, but QDA is more accurate. In this case, the data is not linearly separable, so QDA would perform better than LDA.\n",
    "\n",
    "**d.** To check the equality of mean for between all the classes, we can use a t-test. The null hypothesis of the t-test is that the means of all the classes are equal. The alternative hypothesis is that the means of the classes are not equal. The t-test statistic is calculated as follows:\n",
    "\n",
    "            t=(ˉX1-ˉX2)/Sp(1/n1-1/n2)^1/2\n",
    "\n",
    "where ˉX1 and ˉX2 are the means of the two classes, Sp is the pooled standard deviation, and n1 and n2\n",
    "are the sample sizes of the two classes. The p-value of the t-test is calculated using the t distribution. If the p-value is less than the significance level, then we reject the null hypothesis and conclude that the means of the classes are not equal.\n",
    "\n",
    "In this case, the t-test statistic is 2.57 and the p-value is 0.012. Since the p-value is less than 0.05, we reject the null hypothesis and conclude that the means of the classes are not equal.\n",
    "\n",
    "Therefore, we can conclude that the distributions of the classes are not the same, the variances of the classes are not equal, and the means of the classes are not equal. This suggests that LDA and QDA would both be able to classify the data accurately, but QDA would likely be more accurate."
   ]
  },
  {
   "cell_type": "markdown",
   "id": "f0055ad2",
   "metadata": {},
   "source": [
    "### Ans(12):"
   ]
  },
  {
   "cell_type": "markdown",
   "id": "8110ec7c",
   "metadata": {},
   "source": [
    "**a.**The following are the hypotheses for the t-test:\n",
    "    \n",
    "H0: There is no significant difference between the mean improvement scores of the two groups.\n",
    "Ha: There is a significant difference in the mean improvement scores between the two groups.\n",
    "\n",
    "Given data:\n",
    "Group A: Mean improvement score (X̄₁) = 2.5, Standard deviation (s₁) = 0.8, Sample size (n₁) = 30\n",
    "Group B: Mean improvement score (X̄₂) = 2.2, Standard deviation (s₂) = 0.6, Sample size (n₂) = 30\n",
    "Significance level (α) = 0.05\n",
    "\n",
    "We can calculate the t-statistic using the following formula:\n",
    "\n",
    "t = (X̄₁ - X̄₂) / √[(s₁²/n₁) + (s₂²/n₂)]\n",
    "\n",
    "Substituting the values:\n",
    "    \n",
    "t = (2.5 - 2.2) / √[(0.8²/30) + (0.6²/30)]\n",
    "\n",
    "Calculating the value of t:\n",
    "\n",
    "t = 0.3 / √[(0.068 + 0.036)]\n",
    "\n",
    "t ≈ 0.3 / √[0.104]\n",
    "\n",
    "t ≈ 0.3 / 0.322\n",
    "\n",
    "t ≈ 0.93\n",
    "\n",
    "**b.** Interpreting the t-test results:\n",
    "\n",
    "To interpret the t-test results, we compare the calculated t-value with the critical t-value at the chosen significance level (α = 0.05) and the degrees of freedom (df = n₁ + n₂ - 2).\n",
    "\n",
    "Since the sample size for both groups is 30, the degrees of freedom (df) = 30 + 30 - 2 = 58.\n",
    "\n",
    "Using a t-table or statistical software, we can find the critical t-value for a two-tailed test with α = 0.05 and df = 58. Let's assume the critical t-value is approximately 2.0.\n",
    "\n",
    "Since the calculated t-value (0.93) is less than the critical t-value (2.0), we fail to reject the null hypothesis. There is not enough evidence to conclude that there is a significant difference in the mean improvement scores between Group A and Group B.\n",
    "\n",
    "Therefore, in the context of the study, we cannot conclude that the new drug is significantly more effective than the standard drug based on the mean improvement scores. Further analysis or studies may be required to draw definitive conclusions."
   ]
  },
  {
   "cell_type": "code",
   "execution_count": null,
   "id": "9a5d9fe1",
   "metadata": {},
   "outputs": [],
   "source": []
  }
 ],
 "metadata": {
  "kernelspec": {
   "display_name": "Python 3 (ipykernel)",
   "language": "python",
   "name": "python3"
  },
  "language_info": {
   "codemirror_mode": {
    "name": "ipython",
    "version": 3
   },
   "file_extension": ".py",
   "mimetype": "text/x-python",
   "name": "python",
   "nbconvert_exporter": "python",
   "pygments_lexer": "ipython3",
   "version": "3.9.13"
  }
 },
 "nbformat": 4,
 "nbformat_minor": 5
}
